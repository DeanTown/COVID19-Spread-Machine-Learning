{
 "cells": [
  {
   "cell_type": "code",
   "execution_count": 19,
   "metadata": {},
   "outputs": [],
   "source": [
    "from sklearn.model_selection import train_test_split, GridSearchCV, cross_val_predict\n",
    "from sklearn.tree import DecisionTreeRegressor, DecisionTreeClassifier\n",
    "from sklearn.ensemble import RandomForestRegressor\n",
    "from sklearn.metrics import accuracy_score, r2_score, mean_squared_error, confusion_matrix\n",
    "from sklearn import tree\n",
    "from math import sqrt\n",
    "\n",
    "import matplotlib.pyplot as plt\n",
    "import numpy as np\n",
    "import pandas as pd\n",
    "import requests\n",
    "import graphviz\n",
    "import json\n",
    "import csv\n",
    "import io\n",
    "\n",
    "# Constants\n",
    "CASES_URL = 'https://usafactsstatic.blob.core.windows.net/public/data/covid-19/covid_confirmed_usafacts.csv'\n",
    "DEATHS_URL = 'https://usafactsstatic.blob.core.windows.net/public/data/covid-19/covid_deaths_usafacts.csv'\n",
    "POPS_URL = 'https://usafactsstatic.blob.core.windows.net/public/data/covid-19/covid_county_population_usafacts.csv'"
   ]
  },
  {
   "cell_type": "markdown",
   "metadata": {},
   "source": [
    "## Update Data"
   ]
  },
  {
   "cell_type": "code",
   "execution_count": 120,
   "metadata": {},
   "outputs": [],
   "source": [
    "# update_data -> None\n",
    "# updates the cases, deaths, and pops json files to have the most recent data from usafacts.org.\n",
    "def update_data():\n",
    "    \n",
    "    # Get Cases\n",
    "    cases_data = {}\n",
    "    cases_r = requests.get(CASES_URL)\n",
    "    cases_reader = csv.DictReader(io.StringIO(cases_r.text))\n",
    "    \n",
    "    for rows in cases_reader:\n",
    "        idx = list(rows.keys())[0]\n",
    "        key = rows[idx]\n",
    "        cases_data[key] = rows\n",
    "        \n",
    "    with open('cases.json', 'w', encoding='utf-8') as jsonf:\n",
    "        jsonf.write(json.dumps(cases_data, indent=4))\n",
    "        \n",
    "    # Get Deaths\n",
    "    deaths_data = {}\n",
    "    deaths_r = requests.get(DEATHS_URL)\n",
    "    deaths_reader = csv.DictReader(io.StringIO(deaths_r.text))\n",
    "    \n",
    "    for rows in deaths_reader:\n",
    "        idx = list(rows.keys())[0]\n",
    "        key = rows[idx]\n",
    "        deaths_data[key] = rows\n",
    "        \n",
    "    with open('deaths.json', 'w', encoding='utf-8') as jsonf:\n",
    "        jsonf.write(json.dumps(deaths_data, indent=4))\n",
    "        \n",
    "    # Get Populations\n",
    "    pops_data = {}\n",
    "    pops_r = requests.get(POPS_URL)\n",
    "    pops_reader = csv.DictReader(io.StringIO(pops_r.text))\n",
    "    \n",
    "    for rows in pops_reader:\n",
    "        idx = list(rows.keys())[0]\n",
    "        key = rows[idx]\n",
    "        pops_data[key] = rows\n",
    "        \n",
    "    with open('pops.json', 'w', encoding='utf-8') as jsonf:\n",
    "        jsonf.write(json.dumps(pops_data, indent=4))\n",
    "    \n",
    "update_data()"
   ]
  },
  {
   "cell_type": "markdown",
   "metadata": {},
   "source": [
    "## Load Data"
   ]
  },
  {
   "cell_type": "code",
   "execution_count": 2,
   "metadata": {},
   "outputs": [],
   "source": [
    "# get_dataframes -> (DataFrame, DataFrame, DataFrame)\n",
    "# reads the cases, deaths, and populations json files in and converts them to pandas dataframes.\n",
    "def get_dataframes():\n",
    "    cases_df = ''\n",
    "    deaths_df = ''\n",
    "    pops_df = ''\n",
    "\n",
    "    with open('cases.json') as file:\n",
    "        cases_data = json.load(file)\n",
    "        cases_df = pd.DataFrame(cases_data).transpose()\n",
    "    \n",
    "    with open('deaths.json') as file:\n",
    "        deaths_data = json.load(file)\n",
    "        deaths_df = pd.DataFrame(deaths_data).transpose()\n",
    "        \n",
    "    with open('pops.json') as file:\n",
    "        pops_data = json.load(file)\n",
    "        pops_df = pd.DataFrame(pops_data).transpose()\n",
    "        \n",
    "    return (cases_df, deaths_df, pops_df)\n",
    "        \n",
    "    \n",
    "cases_df, deaths_df, pops_df = get_dataframes()"
   ]
  },
  {
   "cell_type": "markdown",
   "metadata": {},
   "source": [
    "## Preprocessing"
   ]
  },
  {
   "cell_type": "code",
   "execution_count": 3,
   "metadata": {},
   "outputs": [],
   "source": [
    "# new_cases -> DataFrame\n",
    "# Calculates the number of new cases in a given day based on the previous day's value and replaces the corresponding\n",
    "# cell with that value.\n",
    "def new_cases():\n",
    "    df = cases_df.copy()\n",
    "    ignored_columns = [0, 1, 2, 3, 4]\n",
    "    num_cols = len(df.columns)\n",
    "    \n",
    "    for index, row in df.iterrows():\n",
    "        for col_idx in reversed(range(num_cols)):\n",
    "            if col_idx not in ignored_columns:\n",
    "                curr_col = df.columns[col_idx]\n",
    "                last_col = df.columns[col_idx-1]\n",
    "                df.at[index, curr_col] = int(df.at[index, curr_col]) - int(df.at[index, last_col])\n",
    "                \n",
    "    return df\n",
    "\n",
    "new_cases_df = new_cases()"
   ]
  },
  {
   "cell_type": "code",
   "execution_count": 4,
   "metadata": {},
   "outputs": [],
   "source": [
    "# new_deaths -> DataFrame\n",
    "# Calculates the number of new deaths in a given day based on the previous day's value and replaces the corresponding\n",
    "# cell with that value.\n",
    "def new_deaths():\n",
    "    df = deaths_df.copy()\n",
    "    ignored_columns = [0, 1, 2, 3, 4]\n",
    "    num_cols = len(df.columns)\n",
    "    \n",
    "    for index, row in df.iterrows():\n",
    "        for col_idx in reversed(range(num_cols)):\n",
    "            if col_idx not in ignored_columns:\n",
    "                curr_col = df.columns[col_idx]\n",
    "                last_col = df.columns[col_idx-1]\n",
    "                df.at[index, curr_col] = int(df.at[index, curr_col]) - int(df.at[index, last_col])\n",
    "                \n",
    "    return df\n",
    "\n",
    "new_deaths_df = new_deaths()"
   ]
  },
  {
   "cell_type": "code",
   "execution_count": 6,
   "metadata": {},
   "outputs": [],
   "source": [
    "# master_dataframe -> DataFrame\n",
    "# Creates a new dataframe with the following specifications (to be used in model training):\n",
    "# Columns: [CountyFIPS, Population, Total Cases, New Cases, Total Deaths, New Deaths, Cases in 7 Days]\n",
    "# Index: [Date]\n",
    "def master_dataframe():\n",
    "    c_df = cases_df.copy().iloc[:,:-7]\n",
    "    d_df = deaths_df.copy().iloc[:,:-7]\n",
    "    n_c_df = new_cases_df.copy().iloc[:,:-7]\n",
    "    n_d_df = new_deaths_df.copy().iloc[:,:-7]\n",
    "    \n",
    "    dates = []\n",
    "    counties = []\n",
    "    populations = []\n",
    "    total_cases = []\n",
    "    new_cases = []\n",
    "    total_deaths = []\n",
    "    new_deaths = []\n",
    "    num_cases_in_seven_days = []\n",
    "    ignored_columns = [0, 1, 2, 3]\n",
    "    \n",
    "    row_index = 0\n",
    "    for index, row in c_df.iterrows():\n",
    "        countyFIPS = c_df.at[index, c_df.columns[0]]\n",
    "        if countyFIPS in pops_df['ï»¿countyFIPS']:\n",
    "            population = pops_df.loc[pops_df['ï»¿countyFIPS'] == countyFIPS, 'population'].iloc[0]\n",
    "        else:\n",
    "            population = 0\n",
    "        \n",
    "        for col_idx in range(len(c_df.columns)):\n",
    "            if col_idx not in ignored_columns:\n",
    "                date = cases_df.columns[col_idx]\n",
    "                dates.append(date)\n",
    "                counties.append(countyFIPS)\n",
    "                populations.append(population)\n",
    "                total_cases.append(c_df.iloc[int(row_index)][date])\n",
    "                new_cases.append(n_c_df.iloc[int(row_index)][date])\n",
    "                total_deaths.append(d_df.iloc[int(row_index)][date])\n",
    "                new_deaths.append(n_d_df.iloc[int(row_index)][date])\n",
    "                num_cases_in_seven_days.append(cases_df.iloc[int(row_index)][cases_df.columns[col_idx + 7]])\n",
    "        row_index += 1\n",
    "        \n",
    "    df = pd.DataFrame(list(zip(counties, populations, total_cases, new_cases, total_deaths, new_deaths, num_cases_in_seven_days)), \n",
    "                      index = dates, \n",
    "                      columns = ['CountyFIPS', 'Population', 'Total Cases', 'New Cases', 'Total Deaths', 'New Deaths', 'Cases in 7 Days'])\n",
    "    return df\n",
    "    \n",
    "master_df = master_dataframe()"
   ]
  },
  {
   "cell_type": "code",
   "execution_count": 122,
   "metadata": {},
   "outputs": [
    {
     "data": {
      "text/html": [
       "<div>\n",
       "<style scoped>\n",
       "    .dataframe tbody tr th:only-of-type {\n",
       "        vertical-align: middle;\n",
       "    }\n",
       "\n",
       "    .dataframe tbody tr th {\n",
       "        vertical-align: top;\n",
       "    }\n",
       "\n",
       "    .dataframe thead th {\n",
       "        text-align: right;\n",
       "    }\n",
       "</style>\n",
       "<table border=\"1\" class=\"dataframe\">\n",
       "  <thead>\n",
       "    <tr style=\"text-align: right;\">\n",
       "      <th></th>\n",
       "      <th>CountyFIPS</th>\n",
       "      <th>Population</th>\n",
       "      <th>Total Cases</th>\n",
       "      <th>New Cases</th>\n",
       "      <th>Total Deaths</th>\n",
       "      <th>New Deaths</th>\n",
       "      <th>Cases in 7 Days</th>\n",
       "    </tr>\n",
       "  </thead>\n",
       "  <tbody>\n",
       "    <tr>\n",
       "      <th>1/22/20</th>\n",
       "      <td>50007</td>\n",
       "      <td>163774</td>\n",
       "      <td>0</td>\n",
       "      <td>0</td>\n",
       "      <td>0</td>\n",
       "      <td>0</td>\n",
       "      <td>0</td>\n",
       "    </tr>\n",
       "    <tr>\n",
       "      <th>1/23/20</th>\n",
       "      <td>50007</td>\n",
       "      <td>163774</td>\n",
       "      <td>0</td>\n",
       "      <td>0</td>\n",
       "      <td>0</td>\n",
       "      <td>0</td>\n",
       "      <td>0</td>\n",
       "    </tr>\n",
       "    <tr>\n",
       "      <th>1/24/20</th>\n",
       "      <td>50007</td>\n",
       "      <td>163774</td>\n",
       "      <td>0</td>\n",
       "      <td>0</td>\n",
       "      <td>0</td>\n",
       "      <td>0</td>\n",
       "      <td>0</td>\n",
       "    </tr>\n",
       "    <tr>\n",
       "      <th>1/25/20</th>\n",
       "      <td>50007</td>\n",
       "      <td>163774</td>\n",
       "      <td>0</td>\n",
       "      <td>0</td>\n",
       "      <td>0</td>\n",
       "      <td>0</td>\n",
       "      <td>0</td>\n",
       "    </tr>\n",
       "    <tr>\n",
       "      <th>1/26/20</th>\n",
       "      <td>50007</td>\n",
       "      <td>163774</td>\n",
       "      <td>0</td>\n",
       "      <td>0</td>\n",
       "      <td>0</td>\n",
       "      <td>0</td>\n",
       "      <td>0</td>\n",
       "    </tr>\n",
       "    <tr>\n",
       "      <th>...</th>\n",
       "      <td>...</td>\n",
       "      <td>...</td>\n",
       "      <td>...</td>\n",
       "      <td>...</td>\n",
       "      <td>...</td>\n",
       "      <td>...</td>\n",
       "      <td>...</td>\n",
       "    </tr>\n",
       "    <tr>\n",
       "      <th>11/12/20</th>\n",
       "      <td>50007</td>\n",
       "      <td>163774</td>\n",
       "      <td>753</td>\n",
       "      <td>3</td>\n",
       "      <td>29</td>\n",
       "      <td>0</td>\n",
       "      <td>770</td>\n",
       "    </tr>\n",
       "    <tr>\n",
       "      <th>11/13/20</th>\n",
       "      <td>50007</td>\n",
       "      <td>163774</td>\n",
       "      <td>755</td>\n",
       "      <td>2</td>\n",
       "      <td>29</td>\n",
       "      <td>0</td>\n",
       "      <td>771</td>\n",
       "    </tr>\n",
       "    <tr>\n",
       "      <th>11/14/20</th>\n",
       "      <td>50007</td>\n",
       "      <td>163774</td>\n",
       "      <td>758</td>\n",
       "      <td>3</td>\n",
       "      <td>29</td>\n",
       "      <td>0</td>\n",
       "      <td>782</td>\n",
       "    </tr>\n",
       "    <tr>\n",
       "      <th>11/15/20</th>\n",
       "      <td>50007</td>\n",
       "      <td>163774</td>\n",
       "      <td>760</td>\n",
       "      <td>2</td>\n",
       "      <td>29</td>\n",
       "      <td>0</td>\n",
       "      <td>785</td>\n",
       "    </tr>\n",
       "    <tr>\n",
       "      <th>11/16/20</th>\n",
       "      <td>50007</td>\n",
       "      <td>163774</td>\n",
       "      <td>763</td>\n",
       "      <td>3</td>\n",
       "      <td>29</td>\n",
       "      <td>0</td>\n",
       "      <td>787</td>\n",
       "    </tr>\n",
       "  </tbody>\n",
       "</table>\n",
       "<p>300 rows × 7 columns</p>\n",
       "</div>"
      ],
      "text/plain": [
       "         CountyFIPS Population Total Cases New Cases Total Deaths New Deaths  \\\n",
       "1/22/20       50007     163774           0         0            0          0   \n",
       "1/23/20       50007     163774           0         0            0          0   \n",
       "1/24/20       50007     163774           0         0            0          0   \n",
       "1/25/20       50007     163774           0         0            0          0   \n",
       "1/26/20       50007     163774           0         0            0          0   \n",
       "...             ...        ...         ...       ...          ...        ...   \n",
       "11/12/20      50007     163774         753         3           29          0   \n",
       "11/13/20      50007     163774         755         2           29          0   \n",
       "11/14/20      50007     163774         758         3           29          0   \n",
       "11/15/20      50007     163774         760         2           29          0   \n",
       "11/16/20      50007     163774         763         3           29          0   \n",
       "\n",
       "         Cases in 7 Days  \n",
       "1/22/20                0  \n",
       "1/23/20                0  \n",
       "1/24/20                0  \n",
       "1/25/20                0  \n",
       "1/26/20                0  \n",
       "...                  ...  \n",
       "11/12/20             770  \n",
       "11/13/20             771  \n",
       "11/14/20             782  \n",
       "11/15/20             785  \n",
       "11/16/20             787  \n",
       "\n",
       "[300 rows x 7 columns]"
      ]
     },
     "execution_count": 122,
     "metadata": {},
     "output_type": "execute_result"
    }
   ],
   "source": [
    "# test_dataframe -> DataFrame\n",
    "# This is a modification of the master_dataframe function that creates the same dataframe\n",
    "# for the instances within a given state. This returned dataframe is used for testing\n",
    "# since the master_dataframe is very large and often crashes our Jupyter notebooks.\n",
    "def test_dataframe(states):\n",
    "    c_df = cases_df.copy().iloc[:,:-7]\n",
    "    d_df = deaths_df.copy().iloc[:,:-7]\n",
    "    n_c_df = new_cases_df.copy().iloc[:,:-7]\n",
    "    n_d_df = new_deaths_df.copy().iloc[:,:-7]\n",
    "    \n",
    "    dates = []\n",
    "    counties = []\n",
    "    populations = []\n",
    "    total_cases = []\n",
    "    new_cases = []\n",
    "    total_deaths = []\n",
    "    new_deaths = []\n",
    "    num_cases_in_seven_days = []\n",
    "    ignored_columns = [0, 1, 2, 3]\n",
    "    \n",
    "    row_index = 0\n",
    "    for index, row in c_df.iterrows():\n",
    "        if row['State'] in states:\n",
    "            countyFIPS = c_df.at[index, c_df.columns[0]]\n",
    "            if countyFIPS in pops_df['ï»¿countyFIPS']:\n",
    "                population = pops_df.loc[pops_df['ï»¿countyFIPS'] == countyFIPS, 'population'].iloc[0]\n",
    "            else:\n",
    "                population = 0\n",
    "\n",
    "            for col_idx in range(len(c_df.columns)):\n",
    "                if col_idx not in ignored_columns:\n",
    "                    date = cases_df.columns[col_idx]\n",
    "                    dates.append(date)\n",
    "                    counties.append(countyFIPS)\n",
    "                    populations.append(population)\n",
    "                    total_cases.append(c_df.iloc[int(row_index)][date])\n",
    "                    new_cases.append(n_c_df.iloc[int(row_index)][date])\n",
    "                    total_deaths.append(d_df.iloc[int(row_index)][date])\n",
    "                    new_deaths.append(n_d_df.iloc[int(row_index)][date])\n",
    "                    num_cases_in_seven_days.append(cases_df.iloc[int(row_index)][cases_df.columns[col_idx + 7]])\n",
    "        row_index += 1\n",
    "        \n",
    "    df = pd.DataFrame(list(zip(counties, populations, total_cases, new_cases, total_deaths, new_deaths, num_cases_in_seven_days)), \n",
    "                      index = dates, \n",
    "                      columns = ['CountyFIPS', 'Population', 'Total Cases', 'New Cases', 'Total Deaths', 'New Deaths', 'Cases in 7 Days'])\n",
    "    return df\n",
    "    \n",
    "test_df = test_dataframe(['VT', 'ME', 'NH', 'MA'])\n",
    "test_df[test_df['CountyFIPS'] == '50007']"
   ]
  },
  {
   "cell_type": "markdown",
   "metadata": {},
   "source": [
    "## Decision Tree Training"
   ]
  },
  {
   "cell_type": "code",
   "execution_count": 6,
   "metadata": {},
   "outputs": [],
   "source": [
    "# remove unnecessary column for Decision Tree (CountyFIPS)\n",
    "test_df = test_df.drop('CountyFIPS', axis=1)\n",
    "\n",
    "# split dataframe into X and Y\n",
    "cols = test_df.shape[1]\n",
    "X = test_df.iloc[:,0:cols-1]\n",
    "Y = test_df.iloc[:,cols-1:cols]\n",
    "\n",
    "# split X and Y into training and testing dataframes\n",
    "X_train, X_test, Y_train, Y_test = train_test_split(X, Y, test_size=0.2, random_state=0)\n",
    "\n",
    "# split X_train and Y_train into testing and validation dataframes\n",
    "X_train, X_val, Y_train, Y_val = train_test_split(X_train, Y_train, test_size=0.2, random_state=0)"
   ]
  },
  {
   "cell_type": "code",
   "execution_count": 27,
   "metadata": {},
   "outputs": [
    {
     "data": {
      "text/plain": [
       "DecisionTreeRegressor()"
      ]
     },
     "execution_count": 27,
     "metadata": {},
     "output_type": "execute_result"
    }
   ],
   "source": [
    "# Create a decision tree object and fit it to our training data\n",
    "dtree = DecisionTreeRegressor() # max_depth=20, min_samples_leaf=0.01, random_state=3\n",
    "dtree.fit(X_train, Y_train)"
   ]
  },
  {
   "cell_type": "markdown",
   "metadata": {},
   "source": [
    "## Decision Tree Hyperparameter Optimization"
   ]
  },
  {
   "cell_type": "code",
   "execution_count": 28,
   "metadata": {},
   "outputs": [
    {
     "name": "stdout",
     "output_type": "stream",
     "text": [
      "best parameters are  {'max_depth': 5, 'max_leaf_nodes': 20, 'min_samples_leaf': 1, 'random_state': 2}\n"
     ]
    }
   ],
   "source": [
    "# Using a grid search to tune our hyperparameters\n",
    "grid_search_params = {\n",
    "    'max_depth': [1,3,4,5,6,8,10,20,30],\n",
    "    'min_samples_leaf': [.001, .01, .1, 1],\n",
    "    'random_state': [1,2,3,4,5],\n",
    "    'max_leaf_nodes': [5,10,15,20]\n",
    "}\n",
    "\n",
    "gridSearchCVForDecTreeReg = GridSearchCV(dtree, grid_search_params, cv = 5)\n",
    "gridSearchCVForDecTreeReg.fit(X_train, Y_train)\n",
    "print(\"best parameters are \", gridSearchCVForDecTreeReg.best_params_)"
   ]
  },
  {
   "cell_type": "markdown",
   "metadata": {},
   "source": [
    "## Decision Tree Evaluation"
   ]
  },
  {
   "cell_type": "code",
   "execution_count": 17,
   "metadata": {},
   "outputs": [
    {
     "name": "stdout",
     "output_type": "stream",
     "text": [
      "193.90082459359533\n",
      "0.9941877262038277\n",
      "216.30719318309053\n",
      "0.9926116812721894\n"
     ]
    }
   ],
   "source": [
    "# Apply best hyperparameters found in grid search\n",
    "dtree = DecisionTreeRegressor(max_depth=5, max_leaf_nodes=20, min_samples_leaf=1, random_state=2)\n",
    "dtree.fit(X_train, Y_train)\n",
    "\n",
    "# Predict using our training and validation data, and output the RMSE and R^2 values.\n",
    "# Expected - low RMSE, high R^2 percentage value.\n",
    "pred_train_tree= dtree.predict(X_train)\n",
    "print(np.sqrt(mean_squared_error(Y_train, pred_train_tree)))\n",
    "print(r2_score(Y_train, pred_train_tree))\n",
    "\n",
    "pred_val_tree= dtree.predict(X_val)\n",
    "print(np.sqrt(mean_squared_error(Y_val, pred_val_tree))) \n",
    "print(r2_score(Y_val, pred_val_tree))"
   ]
  },
  {
   "cell_type": "markdown",
   "metadata": {},
   "source": [
    "## Decision Tree Graphs"
   ]
  },
  {
   "cell_type": "code",
   "execution_count": 90,
   "metadata": {},
   "outputs": [
    {
     "name": "stdout",
     "output_type": "stream",
     "text": [
      "<class 'numpy.ndarray'>\n",
      "(80, 1)\n"
     ]
    },
    {
     "data": {
      "image/png": "[encoded data removed]",
      "text/plain": [
       "<Figure size 432x288 with 1 Axes>"
      ]
     },
     "metadata": {
      "needs_background": "light"
     },
     "output_type": "display_data"
    }
   ],
   "source": [
    "# Import the necessary modules and libraries\n",
    "import numpy as np\n",
    "from sklearn.tree import DecisionTreeRegressor\n",
    "import matplotlib.pyplot as plt\n",
    "\n",
    "# Create a random dataset\n",
    "rng = np.random.RandomState(1)\n",
    "X = np.sort(5 * rng.rand(80, 1), axis=0)\n",
    "y = np.sin(X).ravel()\n",
    "y[::5] += 3 * (0.5 - rng.rand(16))\n",
    "\n",
    "# Fit regression model\n",
    "regr_1 = DecisionTreeRegressor(max_depth=2)\n",
    "regr_2 = DecisionTreeRegressor(max_depth=5)\n",
    "regr_1.fit(X, y)\n",
    "regr_2.fit(X, y)\n",
    "\n",
    "# Predict\n",
    "X_test = np.arange(0.0, 5.0, 0.01)[:, np.newaxis]\n",
    "y_1 = regr_1.predict(X_test)\n",
    "y_2 = regr_2.predict(X_test)\n",
    "\n",
    "print(type(X))\n",
    "print(X.shape)\n",
    "\n",
    "# Plot the results\n",
    "plt.figure()\n",
    "plt.scatter(X, y, s=20, edgecolor=\"black\",\n",
    "            c=\"darkorange\", label=\"data\")\n",
    "plt.plot(X_test, y_1, color=\"cornflowerblue\",\n",
    "         label=\"max_depth=2\", linewidth=2)\n",
    "plt.plot(X_test, y_2, color=\"yellowgreen\", label=\"max_depth=5\", linewidth=2)\n",
    "plt.xlabel(\"data\")\n",
    "plt.ylabel(\"target\")\n",
    "plt.title(\"Decision Tree Regression\")\n",
    "plt.legend()\n",
    "plt.show()"
   ]
  },
  {
   "cell_type": "code",
   "execution_count": 119,
   "metadata": {
    "scrolled": false
   },
   "outputs": [
    {
     "name": "stdout",
     "output_type": "stream",
     "text": [
      "         Population Total Cases New Cases Total Deaths New Deaths  \\\n",
      "10/27/20       6163         539         2           20          0   \n",
      "10/7/20       54987         703        12           10          0   \n",
      "11/10/20     122302        2378        43           26          0   \n",
      "2/10/20       55062           0         0            0          0   \n",
      "2/14/20      163774           0         0            0          0   \n",
      "2/4/20        42222           0         0            0          0   \n",
      "2/6/20        67055           0         0            0          0   \n",
      "3/4/20       803907           0         0            0          0   \n",
      "3/4/20       803907           0         0            0          0   \n",
      "3/4/20        27037           0         0            0          0   \n",
      "3/4/20        27037           0         0            0          0   \n",
      "3/8/20        55062           0         0            0          0   \n",
      "4/25/20       31563          40         1            2          0   \n",
      "4/5/20        42222          27         3            0          0   \n",
      "5/14/20     1611699         132         3            3          0   \n",
      "6/14/20       76085         123         4            5          0   \n",
      "6/16/20      309769        2636        65          119          1   \n",
      "6/18/20       76085         144         9            5          0   \n",
      "6/30/20       61303         847        12           13          2   \n",
      "7/22/20      295003        2196        94           16          0   \n",
      "7/26/20       43146         897         9            9          0   \n",
      "8/13/20       67055        1250         9           23          0   \n",
      "8/28/20       58409        7818        32          162          2   \n",
      "9/11/20       76085         292         0           15          0   \n",
      "9/23/20      830622         435         6            8          0   \n",
      "9/9/20        28892        3681         3           42          0   \n",
      "\n",
      "         Cases in 7 Days  \n",
      "10/27/20             572  \n",
      "10/7/20              744  \n",
      "11/10/20            2594  \n",
      "2/10/20                0  \n",
      "2/14/20                0  \n",
      "2/4/20                 0  \n",
      "2/6/20                 0  \n",
      "3/4/20                 0  \n",
      "3/4/20                 0  \n",
      "3/4/20                 0  \n",
      "3/4/20                 0  \n",
      "3/8/20                 0  \n",
      "4/25/20               52  \n",
      "4/5/20                39  \n",
      "5/14/20              179  \n",
      "6/14/20              154  \n",
      "6/16/20             3144  \n",
      "6/18/20              160  \n",
      "6/30/20              907  \n",
      "7/22/20             2835  \n",
      "7/26/20             1061  \n",
      "8/13/20             1293  \n",
      "8/28/20             8131  \n",
      "9/11/20              300  \n",
      "9/23/20              473  \n",
      "9/9/20              3759  \n"
     ]
    },
    {
     "ename": "KeyError",
     "evalue": "'New Cases'",
     "output_type": "error",
     "traceback": [
      "\u001b[0;31m---------------------------------------------------------------------------\u001b[0m",
      "\u001b[0;31mKeyError\u001b[0m                                  Traceback (most recent call last)",
      "\u001b[0;32m<ipython-input-119-a1eac57da354>\u001b[0m in \u001b[0;36m<module>\u001b[0;34m\u001b[0m\n\u001b[1;32m      6\u001b[0m \u001b[0mprint\u001b[0m\u001b[0;34m(\u001b[0m\u001b[0mtest\u001b[0m\u001b[0;34m)\u001b[0m\u001b[0;34m\u001b[0m\u001b[0;34m\u001b[0m\u001b[0m\n\u001b[1;32m      7\u001b[0m \u001b[0;31m# test['New Cases'] = test['New Cases'].astype(int)\u001b[0m\u001b[0;34m\u001b[0m\u001b[0;34m\u001b[0m\u001b[0;34m\u001b[0m\u001b[0m\n\u001b[0;32m----> 8\u001b[0;31m \u001b[0mtest\u001b[0m\u001b[0;34m.\u001b[0m\u001b[0msort_values\u001b[0m\u001b[0;34m(\u001b[0m\u001b[0mby\u001b[0m\u001b[0;34m=\u001b[0m\u001b[0;34m[\u001b[0m\u001b[0;34m'New Cases'\u001b[0m\u001b[0;34m]\u001b[0m\u001b[0;34m,\u001b[0m \u001b[0maxis\u001b[0m\u001b[0;34m=\u001b[0m\u001b[0;36m1\u001b[0m\u001b[0;34m)\u001b[0m\u001b[0;34m\u001b[0m\u001b[0;34m\u001b[0m\u001b[0m\n\u001b[0m\u001b[1;32m      9\u001b[0m \u001b[0;34m\u001b[0m\u001b[0m\n\u001b[1;32m     10\u001b[0m \u001b[0mprint\u001b[0m\u001b[0;34m(\u001b[0m\u001b[0mtest\u001b[0m\u001b[0;34m)\u001b[0m\u001b[0;34m\u001b[0m\u001b[0;34m\u001b[0m\u001b[0m\n",
      "\u001b[0;32m/opt/anaconda3/lib/python3.8/site-packages/pandas/core/frame.py\u001b[0m in \u001b[0;36msort_values\u001b[0;34m(self, by, axis, ascending, inplace, kind, na_position, ignore_index)\u001b[0m\n\u001b[1;32m   4925\u001b[0m \u001b[0;34m\u001b[0m\u001b[0m\n\u001b[1;32m   4926\u001b[0m             \u001b[0mby\u001b[0m \u001b[0;34m=\u001b[0m \u001b[0mby\u001b[0m\u001b[0;34m[\u001b[0m\u001b[0;36m0\u001b[0m\u001b[0;34m]\u001b[0m\u001b[0;34m\u001b[0m\u001b[0;34m\u001b[0m\u001b[0m\n\u001b[0;32m-> 4927\u001b[0;31m             \u001b[0mk\u001b[0m \u001b[0;34m=\u001b[0m \u001b[0mself\u001b[0m\u001b[0;34m.\u001b[0m\u001b[0m_get_label_or_level_values\u001b[0m\u001b[0;34m(\u001b[0m\u001b[0mby\u001b[0m\u001b[0;34m,\u001b[0m \u001b[0maxis\u001b[0m\u001b[0;34m=\u001b[0m\u001b[0maxis\u001b[0m\u001b[0;34m)\u001b[0m\u001b[0;34m\u001b[0m\u001b[0;34m\u001b[0m\u001b[0m\n\u001b[0m\u001b[1;32m   4928\u001b[0m \u001b[0;34m\u001b[0m\u001b[0m\n\u001b[1;32m   4929\u001b[0m             \u001b[0;32mif\u001b[0m \u001b[0misinstance\u001b[0m\u001b[0;34m(\u001b[0m\u001b[0mascending\u001b[0m\u001b[0;34m,\u001b[0m \u001b[0;34m(\u001b[0m\u001b[0mtuple\u001b[0m\u001b[0;34m,\u001b[0m \u001b[0mlist\u001b[0m\u001b[0;34m)\u001b[0m\u001b[0;34m)\u001b[0m\u001b[0;34m:\u001b[0m\u001b[0;34m\u001b[0m\u001b[0;34m\u001b[0m\u001b[0m\n",
      "\u001b[0;32m/opt/anaconda3/lib/python3.8/site-packages/pandas/core/generic.py\u001b[0m in \u001b[0;36m_get_label_or_level_values\u001b[0;34m(self, key, axis)\u001b[0m\n\u001b[1;32m   1690\u001b[0m             \u001b[0mvalues\u001b[0m \u001b[0;34m=\u001b[0m \u001b[0mself\u001b[0m\u001b[0;34m.\u001b[0m\u001b[0maxes\u001b[0m\u001b[0;34m[\u001b[0m\u001b[0maxis\u001b[0m\u001b[0;34m]\u001b[0m\u001b[0;34m.\u001b[0m\u001b[0mget_level_values\u001b[0m\u001b[0;34m(\u001b[0m\u001b[0mkey\u001b[0m\u001b[0;34m)\u001b[0m\u001b[0;34m.\u001b[0m\u001b[0m_values\u001b[0m\u001b[0;34m\u001b[0m\u001b[0;34m\u001b[0m\u001b[0m\n\u001b[1;32m   1691\u001b[0m         \u001b[0;32melse\u001b[0m\u001b[0;34m:\u001b[0m\u001b[0;34m\u001b[0m\u001b[0;34m\u001b[0m\u001b[0m\n\u001b[0;32m-> 1692\u001b[0;31m             \u001b[0;32mraise\u001b[0m \u001b[0mKeyError\u001b[0m\u001b[0;34m(\u001b[0m\u001b[0mkey\u001b[0m\u001b[0;34m)\u001b[0m\u001b[0;34m\u001b[0m\u001b[0;34m\u001b[0m\u001b[0m\n\u001b[0m\u001b[1;32m   1693\u001b[0m \u001b[0;34m\u001b[0m\u001b[0m\n\u001b[1;32m   1694\u001b[0m         \u001b[0;31m# Check for duplicates\u001b[0m\u001b[0;34m\u001b[0m\u001b[0;34m\u001b[0m\u001b[0;34m\u001b[0m\u001b[0m\n",
      "\u001b[0;31mKeyError\u001b[0m: 'New Cases'"
     ]
    }
   ],
   "source": [
    "# The following graph shows the effect of max_depth on the predicted values of a Decision Tree Regressor. \n",
    "dt_x = X_val[0:120:5]\n",
    "dt_y = Y_val[0:120:5]\n",
    "\n",
    "test = dt_x.merge(dt_y, how='outer', left_index=True, right_index=True)\n",
    "print(test)\n",
    "# test['New Cases'] = test['New Cases'].astype(int)\n",
    "test.sort_values(by=['New Cases'], axis=1)\n",
    "\n",
    "print(test)\n",
    "\n",
    "# cols = test.shape[1]\n",
    "# X = test.iloc[:,0:cols-1]\n",
    "# Y = test.iloc[:,cols-1:cols]\n",
    "\n",
    "# dt_x_train, dt_x_test, dt_y_train, dt_y_test = train_test_split(X, Y, test_size=0.1666666666)\n",
    "\n",
    "# regr_1 = DecisionTreeRegressor(max_depth=2)\n",
    "# regr_2 = DecisionTreeRegressor(max_depth=5)\n",
    "# regr_3 = DecisionTreeRegressor(max_depth=8)\n",
    "\n",
    "# regr_1.fit(dt_x_train, dt_y_train)\n",
    "# regr_2.fit(dt_x_train, dt_y_train)\n",
    "# regr_3.fit(dt_x_train, dt_y_train)\n",
    "\n",
    "# y_1 = regr_1.predict(dt_x_test)\n",
    "# y_2 = regr_2.predict(dt_x_test)\n",
    "# y_3 = regr_3.predict(dt_x_test)\n",
    "\n",
    "# # print(type(dt_x_train.to_numpy()))\n",
    "# # print(dt_x_train.to_numpy().shape)\n",
    "# # print(dt_x_train.to_numpy())\n",
    "\n",
    "# plot_x = dt_x_train['New Cases'].to_numpy()\n",
    "# print(plot_x)\n",
    "\n",
    "# plt.figure()\n",
    "# plt.scatter(plot_x, dt_y_train)\n",
    "# plt.plot(dt_x_test['New Cases'], y_1, label=\"max_depth=2\")"
   ]
  },
  {
   "cell_type": "code",
   "execution_count": null,
   "metadata": {},
   "outputs": [],
   "source": [
    "# dot_data = tree.export_graphviz(dtree, out_file=None, \n",
    "#                                feature_names=X_train.columns,\n",
    "#                                class_names=Y_train.columns,\n",
    "#                                filled=True)\n",
    "\n",
    "# graph = graphviz.Source(dot_data, format='png')\n",
    "# graph"
   ]
  },
  {
   "cell_type": "code",
   "execution_count": 58,
   "metadata": {},
   "outputs": [
    {
     "data": {
      "image/png": "[encoded data removed]",
      "text/plain": [
       "<Figure size 432x288 with 1 Axes>"
      ]
     },
     "metadata": {
      "needs_background": "light"
     },
     "output_type": "display_data"
    }
   ],
   "source": [
    "y = Y_val.to_numpy().ravel()\n",
    "predicted = pred_val_tree\n",
    "\n",
    "fig, ax = plt.subplots()\n",
    "ax.scatter(y, predicted)\n",
    "ax.plot([y.min(), y.max()], [predicted.min(), predicted.max()], 'k--', lw=4)\n",
    "ax.set_xlabel('Measured')\n",
    "ax.set_ylabel('Predicted')\n",
    "plt.show()"
   ]
  },
  {
   "cell_type": "markdown",
   "metadata": {},
   "source": [
    "## Random Forest Training"
   ]
  },
  {
   "cell_type": "code",
   "execution_count": 45,
   "metadata": {},
   "outputs": [
    {
     "data": {
      "text/plain": [
       "RandomForestRegressor()"
      ]
     },
     "execution_count": 45,
     "metadata": {},
     "output_type": "execute_result"
    }
   ],
   "source": [
    "# Create a random forest object and fit it to our training data\n",
    "rfr = RandomForestRegressor()\n",
    "rfr.fit(X_train, np.ravel(Y_train))"
   ]
  },
  {
   "cell_type": "markdown",
   "metadata": {},
   "source": [
    "## Random Forest Hyperparameter Optimization"
   ]
  },
  {
   "cell_type": "code",
   "execution_count": 7,
   "metadata": {},
   "outputs": [
    {
     "data": {
      "text/plain": [
       "GridSearchCV(estimator=RandomForestRegressor(),\n",
       "             param_grid={'n_estimators': [1, 101, 201, 301, 401, 501, 601, 701,\n",
       "                                          801, 901]})"
      ]
     },
     "execution_count": 7,
     "metadata": {},
     "output_type": "execute_result"
    },
    {
     "data": {
      "image/png": "[encoded data removed]",
      "text/plain": [
       "<Figure size 432x288 with 1 Axes>"
      ]
     },
     "metadata": {
      "needs_background": "light"
     },
     "output_type": "display_data"
    }
   ],
   "source": [
    "# Iterate through many different sizes of trees, find the optimal n_estimators\n",
    "ns = []\n",
    "r2_scores = []\n",
    "\n",
    "for tree_size in range(1, 1001, 100):\n",
    "    rfr = RandomForestRegressor(n_estimators = tree_size)\n",
    "    rfr.fit(X_train, np.ravel(Y_train))\n",
    "    y_pred_rfr = rfr.predict(X_val)\n",
    "    ns.append(tree_size)\n",
    "    r2_scores.append(r2_score(Y_val, y_pred_rfr) * 100)\n",
    "    \n",
    "plt.plot(np.array(ns), np.array(r2_scores))\n",
    "plt.xlabel('n_estimator')\n",
    "plt.ylabel('R2 Score')\n",
    "plt.title('n_estimator vs. R2 Score')"
   ]
  },
  {
   "cell_type": "code",
   "execution_count": 13,
   "metadata": {},
   "outputs": [
    {
     "data": {
      "text/plain": [
       "RandomForestRegressor(n_estimators=71)"
      ]
     },
     "execution_count": 13,
     "metadata": {},
     "output_type": "execute_result"
    }
   ],
   "source": [
    "CV_rfr = GridSearchCV(estimator=RandomForestRegressor(), param_grid={'n_estimators': [i for i in range (1, 401, 10)]})\n",
    "CV_rfr.fit(X_train, np.ravel(Y_train))\n",
    "best_estimator = CV_rfr.best_estimator_\n",
    "\n",
    "# Using the above potential n_estimators, GridSearchCV found 71 as the optimal value of n_estimators (accuracy: 95%)."
   ]
  },
  {
   "cell_type": "code",
   "execution_count": 15,
   "metadata": {},
   "outputs": [
    {
     "data": {
      "text/plain": [
       "GridSearchCV(estimator=RandomForestRegressor(),\n",
       "             param_grid={'n_estimators': [1, 11, 21, 31, 41, 51, 61, 71, 81, 91,\n",
       "                                          101, 111, 121, 131, 141, 151, 161,\n",
       "                                          171, 181, 191, 201, 211, 221, 231,\n",
       "                                          241, 251, 261, 271, 281, 291, ...]})"
      ]
     },
     "execution_count": 15,
     "metadata": {},
     "output_type": "execute_result"
    }
   ],
   "source": [
    "CV_rfr"
   ]
  },
  {
   "cell_type": "code",
   "execution_count": null,
   "metadata": {},
   "outputs": [],
   "source": []
  }
 ],
 "metadata": {
  "kernelspec": {
   "display_name": "Python 3",
   "language": "python",
   "name": "python3"
  },
  "language_info": {
   "codemirror_mode": {
    "name": "ipython",
    "version": 3
   },
   "file_extension": ".py",
   "mimetype": "text/x-python",
   "name": "python",
   "nbconvert_exporter": "python",
   "pygments_lexer": "ipython3",
   "version": "3.8.3"
  }
 },
 "nbformat": 4,
 "nbformat_minor": 4
}
