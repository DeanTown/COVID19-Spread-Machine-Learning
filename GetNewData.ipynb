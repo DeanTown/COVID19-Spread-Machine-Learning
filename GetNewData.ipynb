{
 "cells": [
  {
   "cell_type": "code",
   "execution_count": 6,
   "metadata": {},
   "outputs": [],
   "source": [
    "from urllib import request\n",
    "\n",
    "import pandas as pd\n",
    "import requests\n",
    "import json\n",
    "import io\n",
    "import csv"
   ]
  },
  {
   "cell_type": "code",
   "execution_count": 2,
   "metadata": {},
   "outputs": [],
   "source": [
    "# Constants\n",
    "CASES_URL = 'https://usafactsstatic.blob.core.windows.net/public/data/covid-19/covid_confirmed_usafacts.csv'\n",
    "DEATHS_URL = 'https://usafactsstatic.blob.core.windows.net/public/data/covid-19/covid_deaths_usafacts.csv'\n",
    "POPS_URL = 'https://usafactsstatic.blob.core.windows.net/public/data/covid-19/covid_county_population_usafacts.csv'"
   ]
  },
  {
   "cell_type": "code",
   "execution_count": 71,
   "metadata": {},
   "outputs": [],
   "source": [
    "# update_data -> None\n",
    "# updates the cases, deaths, and pops json files to have the most recent data from usafacts.org.\n",
    "def update_data():\n",
    "    \n",
    "    # Get Cases\n",
    "    cases_data = {}\n",
    "    cases_r = requests.get(CASES_URL)\n",
    "    cases_reader = csv.DictReader(io.StringIO(cases_r.text))\n",
    "    \n",
    "    for rows in cases_reader:\n",
    "        idx = list(rows.keys())[0]\n",
    "        key = rows[idx]\n",
    "        cases_data[key] = rows\n",
    "        \n",
    "    with open('cases.json', 'w', encoding='utf-8') as jsonf:\n",
    "        jsonf.write(json.dumps(cases_data, indent=4))\n",
    "        \n",
    "    # Get Deaths\n",
    "    deaths_data = {}\n",
    "    deaths_r = requests.get(DEATHS_URL)\n",
    "    deaths_reader = csv.DictReader(io.StringIO(deaths_r.text))\n",
    "    \n",
    "    for rows in deaths_reader:\n",
    "        idx = list(rows.keys())[0]\n",
    "        key = rows[idx]\n",
    "        deaths_data[key] = rows\n",
    "        \n",
    "    with open('deaths.json', 'w', encoding='utf-8') as jsonf:\n",
    "        jsonf.write(json.dumps(deaths_data, indent=4))\n",
    "        \n",
    "    # Get Populations\n",
    "    pops_data = {}\n",
    "    pops_r = requests.get(POPS_URL)\n",
    "    pops_reader = csv.DictReader(io.StringIO(pops_r.text))\n",
    "    \n",
    "    for rows in pops_reader:\n",
    "        idx = list(rows.keys())[0]\n",
    "        key = rows[idx]\n",
    "        pops_data[key] = rows\n",
    "        \n",
    "    with open('pops.json', 'w', encoding='utf-8') as jsonf:\n",
    "        jsonf.write(json.dumps(pops_data, indent=4))\n",
    "    \n",
    "update_data()"
   ]
  },
  {
   "cell_type": "code",
   "execution_count": 73,
   "metadata": {},
   "outputs": [],
   "source": [
    "# get_dataframes -> (DataFrame, DataFrame, DataFrame)\n",
    "# reads the cases, deaths, and populations json files in and converts them to pandas dataframes.\n",
    "def get_dataframes():\n",
    "    cases_df = ''\n",
    "    deaths_df = ''\n",
    "    pops_df = ''\n",
    "\n",
    "    with open('cases.json') as file:\n",
    "        cases_data = json.load(file)\n",
    "        cases_df = pd.DataFrame(cases_data).transpose()\n",
    "    \n",
    "    with open('deaths.json') as file:\n",
    "        deaths_data = json.load(file)\n",
    "        deaths_df = pd.DataFrame(deaths_data).transpose()\n",
    "        \n",
    "    with open('pops.json') as file:\n",
    "        pops_data = json.load(file)\n",
    "        pops_df = pd.DataFrame(pops_data).transpose()\n",
    "        \n",
    "    return (cases_df, deaths_df, pops_df)\n",
    "        \n",
    "    \n",
    "cases_df, deaths_df, pops_df = get_dataframes()"
   ]
  },
  {
   "cell_type": "code",
   "execution_count": null,
   "metadata": {},
   "outputs": [],
   "source": []
  }
 ],
 "metadata": {
  "kernelspec": {
   "display_name": "Python 3",
   "language": "python",
   "name": "python3"
  },
  "language_info": {
   "codemirror_mode": {
    "name": "ipython",
    "version": 3
   },
   "file_extension": ".py",
   "mimetype": "text/x-python",
   "name": "python",
   "nbconvert_exporter": "python",
   "pygments_lexer": "ipython3",
   "version": "3.8.3"
  }
 },
 "nbformat": 4,
 "nbformat_minor": 4
}
