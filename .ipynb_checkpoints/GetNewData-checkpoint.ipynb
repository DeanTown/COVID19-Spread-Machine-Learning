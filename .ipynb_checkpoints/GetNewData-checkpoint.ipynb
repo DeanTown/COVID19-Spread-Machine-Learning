{
 "cells": [
  {
   "cell_type": "code",
   "execution_count": 2,
   "metadata": {},
   "outputs": [
    {
     "name": "stdout",
     "output_type": "stream",
     "text": [
      "data has been outputted\n"
     ]
    }
   ],
   "source": [
    "import urllib.request, json \n",
    "#lets get the most up to date data\n",
    "with urllib.request.urlopen(\"https://data.cdc.gov/resource/r8kw-7aab.json\") as url:\n",
    "    newIncomingData = json.loads(url.read().decode())\n",
    "#after this, if we want to clean the data on here first, we can write some code below\n",
    "#\n",
    "#example of what we an look at:\n",
    "#{'data_as_of': '2020-10-19T00:00:00.000',\n",
    "#'start_week': '2020-02-01T00:00:00.000',\n",
    "#'end_week': '2020-02-01T00:00:00.000',\n",
    "#'group': 'By week',\n",
    "#'state': 'United States',\n",
    "#'indicator': 'Week-ending',z\n",
    "#'covid_deaths': '0',\n",
    "#'total_deaths': '58616',\n",
    "#'percent_of_expected_deaths': '0.99',\n",
    "#'pneumonia_deaths': '3799',\n",
    "#'pneumonia_and_covid_deaths': '0',\n",
    "#'influenza_deaths': '479',\n",
    "#'pneumonia_influenza_or_covid_19_deaths': '4278'}\n",
    "    i = 1\n",
    "    for line in newIncomingData:\n",
    "#         if 'covid_deaths' in line: #some days it doesn't show covid data,\n",
    "#             #so I put in logic so it doesn't crash\n",
    "#             print(\"Day: \", line['data_as_of'], \" Deaths: \", line['covid_deaths'])\n",
    "#         else:\n",
    "#             print('for today, it doesnt show covid deaths')\n",
    "        i = i+1\n",
    "#\n",
    "#Now we output the data as we want it, no need to worry about merging because we can overwrite old file\n",
    "with open('data.json', 'w') as outfile:\n",
    "    json.dump(newIncomingData, outfile)\n",
    "    print('data has been outputted')"
   ]
  },
  {
   "cell_type": "code",
   "execution_count": null,
   "metadata": {},
   "outputs": [],
   "source": []
  }
 ],
 "metadata": {
  "kernelspec": {
   "display_name": "Python 3",
   "language": "python",
   "name": "python3"
  },
  "language_info": {
   "codemirror_mode": {
    "name": "ipython",
    "version": 3
   },
   "file_extension": ".py",
   "mimetype": "text/x-python",
   "name": "python",
   "nbconvert_exporter": "python",
   "pygments_lexer": "ipython3",
   "version": "3.8.3"
  }
 },
 "nbformat": 4,
 "nbformat_minor": 4
}
